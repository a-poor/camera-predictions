{
 "cells": [
  {
   "cell_type": "markdown",
   "metadata": {},
   "source": [
    "# Preprocess and Upload Data"
   ]
  },
  {
   "cell_type": "code",
   "execution_count": null,
   "metadata": {},
   "outputs": [],
   "source": [
    "!pip install -qr requirements.txt"
   ]
  },
  {
   "cell_type": "code",
   "execution_count": 1,
   "metadata": {},
   "outputs": [],
   "source": [
    "import boto3\n",
    "import pandas as pd\n",
    "\n",
    "import io\n",
    "import requests\n",
    "from PIL import Image\n",
    "\n",
    "from multiprocessing import Pool, cpu_count\n",
    "from concurrent.futures import ThreadPoolExecutor\n",
    "\n",
    "from tqdm import tqdm"
   ]
  },
  {
   "cell_type": "code",
   "execution_count": 2,
   "metadata": {},
   "outputs": [
    {
     "data": {
      "text/plain": [
       "2"
      ]
     },
     "execution_count": 2,
     "metadata": {},
     "output_type": "execute_result"
    }
   ],
   "source": [
    "cpu_count()"
   ]
  },
  {
   "cell_type": "code",
   "execution_count": 3,
   "metadata": {},
   "outputs": [],
   "source": [
    "s3 = boto3.resource(\"s3\")\n",
    "bucket = s3.Bucket(\"ap-unsplash-images\")"
   ]
  },
  {
   "cell_type": "code",
   "execution_count": 4,
   "metadata": {},
   "outputs": [
    {
     "data": {
      "text/html": [
       "<div>\n",
       "<style scoped>\n",
       "    .dataframe tbody tr th:only-of-type {\n",
       "        vertical-align: middle;\n",
       "    }\n",
       "\n",
       "    .dataframe tbody tr th {\n",
       "        vertical-align: top;\n",
       "    }\n",
       "\n",
       "    .dataframe thead th {\n",
       "        text-align: right;\n",
       "    }\n",
       "</style>\n",
       "<table border=\"1\" class=\"dataframe\">\n",
       "  <thead>\n",
       "    <tr style=\"text-align: right;\">\n",
       "      <th></th>\n",
       "      <th>photo_id</th>\n",
       "      <th>photo_image_url</th>\n",
       "      <th>photo_width</th>\n",
       "      <th>photo_height</th>\n",
       "      <th>photo_aspect_ratio</th>\n",
       "      <th>exif_camera_make</th>\n",
       "      <th>exif_camera_model</th>\n",
       "      <th>exif_iso</th>\n",
       "      <th>exif_aperture_value</th>\n",
       "      <th>exif_focal_length</th>\n",
       "      <th>exif_exposure_time</th>\n",
       "    </tr>\n",
       "  </thead>\n",
       "  <tbody>\n",
       "    <tr>\n",
       "      <th>0</th>\n",
       "      <td>2Q8zDWkj0Yw</td>\n",
       "      <td>https://images.unsplash.com/photo-141520117961...</td>\n",
       "      <td>4192</td>\n",
       "      <td>2794</td>\n",
       "      <td>1.50</td>\n",
       "      <td>NIKON CORPORATION</td>\n",
       "      <td>NIKON D700</td>\n",
       "      <td>2000.0</td>\n",
       "      <td>2.5</td>\n",
       "      <td>50.0</td>\n",
       "      <td>1/125</td>\n",
       "    </tr>\n",
       "    <tr>\n",
       "      <th>1</th>\n",
       "      <td>tsBDNuCJiLg</td>\n",
       "      <td>https://images.unsplash.com/photo-141768928330...</td>\n",
       "      <td>4324</td>\n",
       "      <td>2880</td>\n",
       "      <td>1.50</td>\n",
       "      <td>NIKON CORPORATION</td>\n",
       "      <td>NIKON D3200</td>\n",
       "      <td>320.0</td>\n",
       "      <td>7.1</td>\n",
       "      <td>200.0</td>\n",
       "      <td>1/2000</td>\n",
       "    </tr>\n",
       "    <tr>\n",
       "      <th>2</th>\n",
       "      <td>A93gsuMxVcE</td>\n",
       "      <td>https://images.unsplash.com/photo-142981401899...</td>\n",
       "      <td>2000</td>\n",
       "      <td>1333</td>\n",
       "      <td>1.50</td>\n",
       "      <td>Canon</td>\n",
       "      <td>Canon EOS REBEL T2i</td>\n",
       "      <td>400.0</td>\n",
       "      <td>14.0</td>\n",
       "      <td>18.0</td>\n",
       "      <td>1/640</td>\n",
       "    </tr>\n",
       "    <tr>\n",
       "      <th>3</th>\n",
       "      <td>oYIdH6bFssk</td>\n",
       "      <td>https://images.unsplash.com/photo-143275722183...</td>\n",
       "      <td>4288</td>\n",
       "      <td>2848</td>\n",
       "      <td>1.51</td>\n",
       "      <td>NIKON CORPORATION</td>\n",
       "      <td>NIKON D5000</td>\n",
       "      <td>250.0</td>\n",
       "      <td>5.6</td>\n",
       "      <td>105.0</td>\n",
       "      <td>1/30</td>\n",
       "    </tr>\n",
       "    <tr>\n",
       "      <th>4</th>\n",
       "      <td>wgLPy2YBXuc</td>\n",
       "      <td>https://images.unsplash.com/photo-143205996405...</td>\n",
       "      <td>5312</td>\n",
       "      <td>2988</td>\n",
       "      <td>1.78</td>\n",
       "      <td>SAMSUNG</td>\n",
       "      <td>SAMSUNG-SM-G870A</td>\n",
       "      <td>40.0</td>\n",
       "      <td>2.2</td>\n",
       "      <td>4.8</td>\n",
       "      <td>1/2384</td>\n",
       "    </tr>\n",
       "  </tbody>\n",
       "</table>\n",
       "</div>"
      ],
      "text/plain": [
       "      photo_id                                    photo_image_url  \\\n",
       "0  2Q8zDWkj0Yw  https://images.unsplash.com/photo-141520117961...   \n",
       "1  tsBDNuCJiLg  https://images.unsplash.com/photo-141768928330...   \n",
       "2  A93gsuMxVcE  https://images.unsplash.com/photo-142981401899...   \n",
       "3  oYIdH6bFssk  https://images.unsplash.com/photo-143275722183...   \n",
       "4  wgLPy2YBXuc  https://images.unsplash.com/photo-143205996405...   \n",
       "\n",
       "   photo_width  photo_height  photo_aspect_ratio   exif_camera_make  \\\n",
       "0         4192          2794                1.50  NIKON CORPORATION   \n",
       "1         4324          2880                1.50  NIKON CORPORATION   \n",
       "2         2000          1333                1.50              Canon   \n",
       "3         4288          2848                1.51  NIKON CORPORATION   \n",
       "4         5312          2988                1.78            SAMSUNG   \n",
       "\n",
       "     exif_camera_model  exif_iso exif_aperture_value exif_focal_length  \\\n",
       "0           NIKON D700    2000.0                 2.5              50.0   \n",
       "1          NIKON D3200     320.0                 7.1             200.0   \n",
       "2  Canon EOS REBEL T2i     400.0                14.0              18.0   \n",
       "3          NIKON D5000     250.0                 5.6             105.0   \n",
       "4     SAMSUNG-SM-G870A      40.0                 2.2               4.8   \n",
       "\n",
       "  exif_exposure_time  \n",
       "0              1/125  \n",
       "1             1/2000  \n",
       "2              1/640  \n",
       "3               1/30  \n",
       "4             1/2384  "
      ]
     },
     "execution_count": 4,
     "metadata": {},
     "output_type": "execute_result"
    }
   ],
   "source": [
    "df = pd.read_csv(\n",
    "    \"data/photos.tsv000\",\n",
    "    sep=\"\\t\"\n",
    ")[[\n",
    "    \"photo_id\",\n",
    "    \"photo_image_url\",\n",
    "    \"photo_width\",\n",
    "    \"photo_height\",\n",
    "    \"photo_aspect_ratio\",\n",
    "    \"exif_camera_make\",\n",
    "    \"exif_camera_model\",\n",
    "    \"exif_iso\",\n",
    "    \"exif_aperture_value\",\n",
    "    \"exif_focal_length\",\n",
    "    \"exif_exposure_time\",\n",
    "]].dropna()\n",
    "\n",
    "df.head()"
   ]
  },
  {
   "cell_type": "code",
   "execution_count": 5,
   "metadata": {},
   "outputs": [],
   "source": [
    "def load_image(url):\n",
    "    resp = requests.get(url)\n",
    "    b = io.BytesIO(resp.content)\n",
    "    return Image.open(b)\n",
    "\n",
    "def reshape_image(img,shape=(960,960)):\n",
    "    return img.resize(shape)\n",
    "\n",
    "def upload_img(img,name):\n",
    "    img = img.convert(\"RGB\")\n",
    "    with io.BytesIO() as f:\n",
    "        img.save(f,\"JPEG\")\n",
    "        f.seek(0)\n",
    "        bucket.upload_fileobj(f,\n",
    "            f\"lite-normalized/unsplash.lite.{name}.JPG\")\n",
    "        \n",
    "def process_image(url,name=None):\n",
    "    if name is None: url, name = url\n",
    "    img = load_image(url)\n",
    "    img = reshape_image(img)\n",
    "    upload_img(img,name)"
   ]
  },
  {
   "cell_type": "code",
   "execution_count": 6,
   "metadata": {},
   "outputs": [
    {
     "data": {
      "text/plain": [
       "0    -3cTY-Q6k88\n",
       "1    -3qSsolbivo\n",
       "2    -4AR-vVjAbM\n",
       "3    -4qCLz3r1s8\n",
       "4    -5WWw6DeQ8w\n",
       "dtype: object"
      ]
     },
     "execution_count": 6,
     "metadata": {},
     "output_type": "execute_result"
    }
   ],
   "source": [
    "objs = iter(bucket.objects.all())\n",
    "next(objs)\n",
    "\n",
    "existing_objects = pd.Series((\n",
    "    o.key.replace(\"lite-normalized/unsplash.lite.\",\"\").replace(\".JPG\",\"\") \n",
    "    for o in objs))\n",
    "\n",
    "existing_objects.head()"
   ]
  },
  {
   "cell_type": "code",
   "execution_count": 7,
   "metadata": {},
   "outputs": [
    {
     "name": "stdout",
     "output_type": "stream",
     "text": [
      "[ 20.06% ] Processed 4,250 of 21,182 images.\n"
     ]
    }
   ],
   "source": [
    "n_existing = len(existing_objects)\n",
    "n_total = len(df)\n",
    "\n",
    "print(f\"[{(n_existing/n_total*100):6.2f}% ] Processed {n_existing:,d} of {n_total:,d} images.\")"
   ]
  },
  {
   "cell_type": "code",
   "execution_count": 8,
   "metadata": {},
   "outputs": [],
   "source": [
    "# with Pool() as P:\n",
    "#     P.map(\n",
    "#         process_image,\n",
    "#         df[\n",
    "#             [\"photo_image_url\",\"photo_id\"]\n",
    "#         ][\n",
    "#             ~df.photo_id.isin(existing_objects)\n",
    "#         ].values\n",
    "#     )"
   ]
  },
  {
   "cell_type": "code",
   "execution_count": 9,
   "metadata": {},
   "outputs": [],
   "source": [
    "# with ThreadPoolExecutor() as ex:\n",
    "#     ex.map(\n",
    "#         process_image,\n",
    "#         df[\n",
    "#             [\"photo_image_url\",\"photo_id\"]\n",
    "#         ][\n",
    "#             ~df.photo_id.isin(existing_objects)\n",
    "#         ].values\n",
    "#     )"
   ]
  },
  {
   "cell_type": "code",
   "execution_count": null,
   "metadata": {},
   "outputs": [
    {
     "name": "stderr",
     "output_type": "stream",
     "text": [
      "  0%|          | 71/16932 [01:50<7:09:21,  1.53s/it] "
     ]
    }
   ],
   "source": [
    "for url, pid in tqdm(\n",
    "    df[[\"photo_image_url\",\"photo_id\"]][~df.photo_id.isin(existing_objects)].values):\n",
    "    process_image(url,pid)"
   ]
  },
  {
   "cell_type": "code",
   "execution_count": null,
   "metadata": {},
   "outputs": [],
   "source": []
  }
 ],
 "metadata": {
  "kernelspec": {
   "display_name": "Python 3",
   "language": "python",
   "name": "python3"
  },
  "language_info": {
   "codemirror_mode": {
    "name": "ipython",
    "version": 3
   },
   "file_extension": ".py",
   "mimetype": "text/x-python",
   "name": "python",
   "nbconvert_exporter": "python",
   "pygments_lexer": "ipython3",
   "version": "3.7.3"
  }
 },
 "nbformat": 4,
 "nbformat_minor": 4
}
