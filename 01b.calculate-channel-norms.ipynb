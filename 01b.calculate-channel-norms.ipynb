{
 "cells": [
  {
   "cell_type": "markdown",
   "metadata": {},
   "source": [
    "# Get Image Color Channel Norms\n",
    "\n",
    "Map-Reduce the preprocessed images to calculate the mean and std values for each color channel in the dataset."
   ]
  },
  {
   "cell_type": "code",
   "execution_count": 1,
   "metadata": {},
   "outputs": [
    {
     "name": "stdout",
     "output_type": "stream",
     "text": [
      "\u001b[33mWARNING: You are using pip version 20.3; however, version 20.3.3 is available.\n",
      "You should consider upgrading via the '/home/ec2-user/anaconda3/envs/python3/bin/python -m pip install --upgrade pip' command.\u001b[0m\n"
     ]
    }
   ],
   "source": [
    "!pip install -qr requirements.txt"
   ]
  },
  {
   "cell_type": "code",
   "execution_count": 2,
   "metadata": {},
   "outputs": [],
   "source": [
    "import boto3\n",
    "import numpy as np\n",
    "import pandas as pd\n",
    "\n",
    "import io\n",
    "from PIL import Image\n",
    "\n",
    "from tqdm import tqdm"
   ]
  },
  {
   "cell_type": "code",
   "execution_count": 3,
   "metadata": {},
   "outputs": [],
   "source": [
    "from functools import reduce"
   ]
  },
  {
   "cell_type": "code",
   "execution_count": 4,
   "metadata": {},
   "outputs": [],
   "source": [
    "s3 = boto3.resource(\"s3\")\n",
    "bucket = s3.Bucket(\"ap-unsplash-images\")"
   ]
  },
  {
   "cell_type": "code",
   "execution_count": 5,
   "metadata": {},
   "outputs": [
    {
     "data": {
      "text/html": [
       "<div>\n",
       "<style scoped>\n",
       "    .dataframe tbody tr th:only-of-type {\n",
       "        vertical-align: middle;\n",
       "    }\n",
       "\n",
       "    .dataframe tbody tr th {\n",
       "        vertical-align: top;\n",
       "    }\n",
       "\n",
       "    .dataframe thead th {\n",
       "        text-align: right;\n",
       "    }\n",
       "</style>\n",
       "<table border=\"1\" class=\"dataframe\">\n",
       "  <thead>\n",
       "    <tr style=\"text-align: right;\">\n",
       "      <th></th>\n",
       "      <th>photo_id</th>\n",
       "      <th>photo_image_url</th>\n",
       "      <th>photo_width</th>\n",
       "      <th>photo_height</th>\n",
       "      <th>photo_aspect_ratio</th>\n",
       "      <th>exif_camera_make</th>\n",
       "      <th>exif_camera_model</th>\n",
       "      <th>exif_iso</th>\n",
       "      <th>exif_aperture_value</th>\n",
       "      <th>exif_focal_length</th>\n",
       "      <th>exif_exposure_time</th>\n",
       "      <th>s3_key</th>\n",
       "      <th>s3_bucket</th>\n",
       "    </tr>\n",
       "  </thead>\n",
       "  <tbody>\n",
       "    <tr>\n",
       "      <th>0</th>\n",
       "      <td>2Q8zDWkj0Yw</td>\n",
       "      <td>https://images.unsplash.com/photo-141520117961...</td>\n",
       "      <td>4192</td>\n",
       "      <td>2794</td>\n",
       "      <td>1.50</td>\n",
       "      <td>NIKON CORPORATION</td>\n",
       "      <td>NIKON D700</td>\n",
       "      <td>2000.0</td>\n",
       "      <td>2.5</td>\n",
       "      <td>50.0</td>\n",
       "      <td>1/125</td>\n",
       "      <td>lite-normalized/unsplash.lite.2Q8zDWkj0Yw.JPG</td>\n",
       "      <td>ap-unsplash-images</td>\n",
       "    </tr>\n",
       "    <tr>\n",
       "      <th>1</th>\n",
       "      <td>tsBDNuCJiLg</td>\n",
       "      <td>https://images.unsplash.com/photo-141768928330...</td>\n",
       "      <td>4324</td>\n",
       "      <td>2880</td>\n",
       "      <td>1.50</td>\n",
       "      <td>NIKON CORPORATION</td>\n",
       "      <td>NIKON D3200</td>\n",
       "      <td>320.0</td>\n",
       "      <td>7.1</td>\n",
       "      <td>200.0</td>\n",
       "      <td>1/2000</td>\n",
       "      <td>lite-normalized/unsplash.lite.tsBDNuCJiLg.JPG</td>\n",
       "      <td>ap-unsplash-images</td>\n",
       "    </tr>\n",
       "    <tr>\n",
       "      <th>2</th>\n",
       "      <td>A93gsuMxVcE</td>\n",
       "      <td>https://images.unsplash.com/photo-142981401899...</td>\n",
       "      <td>2000</td>\n",
       "      <td>1333</td>\n",
       "      <td>1.50</td>\n",
       "      <td>Canon</td>\n",
       "      <td>Canon EOS REBEL T2i</td>\n",
       "      <td>400.0</td>\n",
       "      <td>14.0</td>\n",
       "      <td>18.0</td>\n",
       "      <td>1/640</td>\n",
       "      <td>lite-normalized/unsplash.lite.A93gsuMxVcE.JPG</td>\n",
       "      <td>ap-unsplash-images</td>\n",
       "    </tr>\n",
       "    <tr>\n",
       "      <th>3</th>\n",
       "      <td>oYIdH6bFssk</td>\n",
       "      <td>https://images.unsplash.com/photo-143275722183...</td>\n",
       "      <td>4288</td>\n",
       "      <td>2848</td>\n",
       "      <td>1.51</td>\n",
       "      <td>NIKON CORPORATION</td>\n",
       "      <td>NIKON D5000</td>\n",
       "      <td>250.0</td>\n",
       "      <td>5.6</td>\n",
       "      <td>105.0</td>\n",
       "      <td>1/30</td>\n",
       "      <td>lite-normalized/unsplash.lite.oYIdH6bFssk.JPG</td>\n",
       "      <td>ap-unsplash-images</td>\n",
       "    </tr>\n",
       "    <tr>\n",
       "      <th>4</th>\n",
       "      <td>wgLPy2YBXuc</td>\n",
       "      <td>https://images.unsplash.com/photo-143205996405...</td>\n",
       "      <td>5312</td>\n",
       "      <td>2988</td>\n",
       "      <td>1.78</td>\n",
       "      <td>SAMSUNG</td>\n",
       "      <td>SAMSUNG-SM-G870A</td>\n",
       "      <td>40.0</td>\n",
       "      <td>2.2</td>\n",
       "      <td>4.8</td>\n",
       "      <td>1/2384</td>\n",
       "      <td>lite-normalized/unsplash.lite.wgLPy2YBXuc.JPG</td>\n",
       "      <td>ap-unsplash-images</td>\n",
       "    </tr>\n",
       "  </tbody>\n",
       "</table>\n",
       "</div>"
      ],
      "text/plain": [
       "      photo_id                                    photo_image_url  \\\n",
       "0  2Q8zDWkj0Yw  https://images.unsplash.com/photo-141520117961...   \n",
       "1  tsBDNuCJiLg  https://images.unsplash.com/photo-141768928330...   \n",
       "2  A93gsuMxVcE  https://images.unsplash.com/photo-142981401899...   \n",
       "3  oYIdH6bFssk  https://images.unsplash.com/photo-143275722183...   \n",
       "4  wgLPy2YBXuc  https://images.unsplash.com/photo-143205996405...   \n",
       "\n",
       "   photo_width  photo_height  photo_aspect_ratio   exif_camera_make  \\\n",
       "0         4192          2794                1.50  NIKON CORPORATION   \n",
       "1         4324          2880                1.50  NIKON CORPORATION   \n",
       "2         2000          1333                1.50              Canon   \n",
       "3         4288          2848                1.51  NIKON CORPORATION   \n",
       "4         5312          2988                1.78            SAMSUNG   \n",
       "\n",
       "     exif_camera_model  exif_iso exif_aperture_value exif_focal_length  \\\n",
       "0           NIKON D700    2000.0                 2.5              50.0   \n",
       "1          NIKON D3200     320.0                 7.1             200.0   \n",
       "2  Canon EOS REBEL T2i     400.0                14.0              18.0   \n",
       "3          NIKON D5000     250.0                 5.6             105.0   \n",
       "4     SAMSUNG-SM-G870A      40.0                 2.2               4.8   \n",
       "\n",
       "  exif_exposure_time                                         s3_key  \\\n",
       "0              1/125  lite-normalized/unsplash.lite.2Q8zDWkj0Yw.JPG   \n",
       "1             1/2000  lite-normalized/unsplash.lite.tsBDNuCJiLg.JPG   \n",
       "2              1/640  lite-normalized/unsplash.lite.A93gsuMxVcE.JPG   \n",
       "3               1/30  lite-normalized/unsplash.lite.oYIdH6bFssk.JPG   \n",
       "4             1/2384  lite-normalized/unsplash.lite.wgLPy2YBXuc.JPG   \n",
       "\n",
       "            s3_bucket  \n",
       "0  ap-unsplash-images  \n",
       "1  ap-unsplash-images  \n",
       "2  ap-unsplash-images  \n",
       "3  ap-unsplash-images  \n",
       "4  ap-unsplash-images  "
      ]
     },
     "execution_count": 5,
     "metadata": {},
     "output_type": "execute_result"
    }
   ],
   "source": [
    "with io.BytesIO() as b:\n",
    "    bucket.download_fileobj(\"lite-normalized-photos.csv\",b)\n",
    "    b.seek(0)\n",
    "    df = pd.read_csv(b)\n",
    "df.head()"
   ]
  },
  {
   "cell_type": "code",
   "execution_count": 6,
   "metadata": {},
   "outputs": [],
   "source": [
    "def get_img_arr(key):\n",
    "    with io.BytesIO() as f:\n",
    "        bucket.download_fileobj(key,f)\n",
    "        f.seek(0)\n",
    "        return np.array(Image.open(f))\n",
    "    \n",
    "def reshape_arr(arr):\n",
    "    return arr.reshape((-1,3))\n",
    "\n",
    "def normalize(arr):\n",
    "    return arr.astype(\"float32\") / 255\n",
    "\n",
    "def squash_pixels(arr):\n",
    "    return np.concatenate((arr.mean(0).reshape((1,-1)), arr.std(0).reshape((1,-1))),0)\n",
    "\n",
    "def process_img(key):\n",
    "    arr = get_img_arr(key)\n",
    "    arr = reshape_arr(arr)\n",
    "    arr = normalize(arr)\n",
    "    return squash_pixels(arr)"
   ]
  },
  {
   "cell_type": "code",
   "execution_count": 7,
   "metadata": {},
   "outputs": [
    {
     "data": {
      "text/plain": [
       "array([[0.55697006, 0.7256846 , 0.94664055],\n",
       "       [0.31954202, 0.20058027, 0.06601173]], dtype=float32)"
      ]
     },
     "execution_count": 7,
     "metadata": {},
     "output_type": "execute_result"
    }
   ],
   "source": [
    "img = process_img(df.s3_key[0])\n",
    "img"
   ]
  },
  {
   "cell_type": "code",
   "execution_count": 8,
   "metadata": {},
   "outputs": [],
   "source": [
    "image_shapes = 960, 960\n",
    "flat_image_length = np.prod(image_shapes)"
   ]
  },
  {
   "cell_type": "code",
   "execution_count": 9,
   "metadata": {},
   "outputs": [
    {
     "name": "stderr",
     "output_type": "stream",
     "text": [
      "Images Processed: 100%|███████████████████████████████████████| 21178/21178 [59:27<00:00,  5.94it/s]"
     ]
    },
    {
     "name": "stdout",
     "output_type": "stream",
     "text": [
      "CHANNEL MEANS: [0.56040615 0.36607313 0.42010993]\n",
      "CHANNEL STDS:  [0.2895784  0.23586935 0.22863376]\n"
     ]
    },
    {
     "name": "stderr",
     "output_type": "stream",
     "text": [
      "\n"
     ]
    }
   ],
   "source": [
    "progress_bar = tqdm(df.s3_key,desc=\"Images Processed\",ncols=100)\n",
    "processed_images = map(process_img,progress_bar)\n",
    "channel_sums = reduce(lambda a,b: np.mean((a,b),0),processed_images)\n",
    "means, stds = channel_sums\n",
    "\n",
    "print(\"CHANNEL MEANS:\", means)\n",
    "print(\"CHANNEL STDS: \", stds)"
   ]
  },
  {
   "cell_type": "code",
   "execution_count": null,
   "metadata": {},
   "outputs": [],
   "source": []
  },
  {
   "cell_type": "code",
   "execution_count": null,
   "metadata": {},
   "outputs": [],
   "source": []
  }
 ],
 "metadata": {
  "kernelspec": {
   "display_name": "conda_python3",
   "language": "python",
   "name": "conda_python3"
  },
  "language_info": {
   "codemirror_mode": {
    "name": "ipython",
    "version": 3
   },
   "file_extension": ".py",
   "mimetype": "text/x-python",
   "name": "python",
   "nbconvert_exporter": "python",
   "pygments_lexer": "ipython3",
   "version": "3.6.10"
  }
 },
 "nbformat": 4,
 "nbformat_minor": 4
}
